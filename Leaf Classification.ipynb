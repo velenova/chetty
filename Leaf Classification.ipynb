{
 "cells": [
  {
   "cell_type": "code",
   "execution_count": 64,
   "metadata": {
    "collapsed": true
   },
   "outputs": [],
   "source": [
    "\"\"\"\n",
    "This program takes in binary leaf images and accurately classifies 99 species of plants\n",
    "\"\"\"\n",
    "import pandas as pd\n",
    "from sklearn.ensemble import RandomForestClassifier\n",
    "from sklearn.model_selection import cross_val_score\n",
    "import numpy as np\n",
    "from sklearn.preprocessing import LabelEncoder"
   ]
  },
  {
   "cell_type": "code",
   "execution_count": 65,
   "metadata": {
    "collapsed": false
   },
   "outputs": [],
   "source": [
    "def loadData(): \n",
    "    \"\"\"\n",
    "    loads in the data and transforms it\n",
    "    returns x, y: input data for the model, target data for the model\n",
    "    \"\"\"\n",
    "    leaf = pd.read_csv('train.csv')\n",
    "    y = pd.DataFrame(leaf, columns=['species']).as_matrix().ravel()\n",
    "    x = leaf.drop(['id', 'species'], 1).as_matrix()\n",
    "    print(x.shape)\n",
    "    print(y.shape)\n",
    "    return x,y"
   ]
  },
  {
   "cell_type": "code",
   "execution_count": 66,
   "metadata": {
    "collapsed": true
   },
   "outputs": [],
   "source": [
    "def transformData(x,y):\n",
    "    \"\"\"\n",
    "    transforms data\n",
    "    x: input data for model\n",
    "    y: target data for the model\n",
    "    return le: label encoder to transform target data for model into normalized encoding\n",
    "    \"\"\"\n",
    "    le = LabelEncoder()\n",
    "    le.fit(y)\n",
    "    y = le.transform(y)\n",
    "    return le"
   ]
  },
  {
   "cell_type": "code",
   "execution_count": 67,
   "metadata": {
    "collapsed": false
   },
   "outputs": [],
   "source": [
    "def buildModel(): \n",
    "    \"\"\"\n",
    "    builds model\n",
    "    return model: data classified using random forest classifier 2 trees in forest\n",
    "    \"\"\"\n",
    "    model = RandomForestClassifier(2)\n",
    "    score = np.mean(cross_val_score(model, x, y, cv=10))\n",
    "    print(score)\n",
    "    model.fit(x, y)\n",
    "    return model"
   ]
  },
  {
   "cell_type": "code",
   "execution_count": 68,
   "metadata": {
    "collapsed": false,
    "scrolled": true
   },
   "outputs": [],
   "source": [
    "def fitModel(model): \n",
    "    \"\"\"\n",
    "    fits model\n",
    "    model: data classified using random forest classifier 2 trees in forest\n",
    "    return answer: predicted probability of class labels of model test data\n",
    "    return test_ids: \n",
    "    \"\"\"\n",
    "    leaf_test = pd.read_csv('test.csv')\n",
    "    test_ids = pd.DataFrame(leaf_test, columns = ['id']).as_matrix().ravel()\n",
    "    leaf_test = leaf_test.drop('id', 1).as_matrix()\n",
    "    answer = model.predict_proba(leaf_test)\n",
    "    print(answer)\n",
    "    return answer, test_ids"
   ]
  },
  {
   "cell_type": "code",
   "execution_count": 69,
   "metadata": {
    "collapsed": false
   },
   "outputs": [],
   "source": [
    "def createSubmission(answer, le): \n",
    "    \"\"\"\n",
    "    creates our submission\n",
    "    \"\"\"\n",
    "    sub = pd.DataFrame(answer, index = test_ids, columns = le.classes_)\n",
    "    sub.index.names = ['id']\n",
    "    sub.to_csv('output.csv')"
   ]
  },
  {
   "cell_type": "code",
   "execution_count": 70,
   "metadata": {
    "collapsed": false
   },
   "outputs": [
    {
     "name": "stdout",
     "output_type": "stream",
     "text": [
      "(990, 192)\n",
      "(990,)\n",
      "0.542424242424\n",
      "[[ 0.  0.  0. ...,  0.  0.  0.]\n",
      " [ 0.  0.  0. ...,  0.  0.  0.]\n",
      " [ 0.  1.  0. ...,  0.  0.  0.]\n",
      " ..., \n",
      " [ 0.  0.  0. ...,  0.  0.  0.]\n",
      " [ 0.  0.  0. ...,  0.  0.  0.]\n",
      " [ 0.  0.  0. ...,  0.  0.  0.]]\n"
     ]
    }
   ],
   "source": [
    "#call each method\n",
    "if __name__ == \"__main__\":\n",
    "    x,y = loadData()\n",
    "    le = transformData(x,y)\n",
    "    model = buildModel()\n",
    "    answer, test_ids = fitModel(model)\n",
    "    createSubmission(answer, le)"
   ]
  }
 ],
 "metadata": {
  "anaconda-cloud": {},
  "kernelspec": {
   "display_name": "Python [default]",
   "language": "python",
   "name": "python2"
  },
  "language_info": {
   "codemirror_mode": {
    "name": "ipython",
    "version": 2
   },
   "file_extension": ".py",
   "mimetype": "text/x-python",
   "name": "python",
   "nbconvert_exporter": "python",
   "pygments_lexer": "ipython2",
   "version": "2.7.12"
  }
 },
 "nbformat": 4,
 "nbformat_minor": 1
}
