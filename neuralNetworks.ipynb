{
 "cells": [
  {
   "cell_type": "code",
   "execution_count": 238,
   "metadata": {
    "collapsed": false,
    "scrolled": true
   },
   "outputs": [],
   "source": [
    "from keras.models import Sequential\n",
    "from keras.layers import Dense, Activation, Dropout\n",
    "from sklearn.model_selection import train_test_split\n",
    "from keras.utils.np_utils import to_categorical\n",
    "import pandas as pd\n",
    "import numpy as np"
   ]
  },
  {
   "cell_type": "code",
   "execution_count": 239,
   "metadata": {
    "collapsed": false
   },
   "outputs": [],
   "source": [
    "#read in the data\n",
    "train_data = pd.read_csv('train.csv')"
   ]
  },
  {
   "cell_type": "code",
   "execution_count": 240,
   "metadata": {
    "collapsed": false
   },
   "outputs": [],
   "source": [
    "#split the data into inputs and outputs\n",
    "y = pd.DataFrame(train_data, columns=['label']).as_matrix()\n",
    "x = train_data.drop('label', 1).as_matrix()"
   ]
  },
  {
   "cell_type": "code",
   "execution_count": 241,
   "metadata": {
    "collapsed": true
   },
   "outputs": [],
   "source": [
    "#convert output to categorical data\n",
    "#y = to_categorical(y, 10)"
   ]
  },
  {
   "cell_type": "code",
   "execution_count": 242,
   "metadata": {
    "collapsed": true
   },
   "outputs": [],
   "source": [
    "#split the data into training and test data\n",
    "x_train, x_test, y_train, y_test = train_test_split(x, y, test_size = 0.33)"
   ]
  },
  {
   "cell_type": "code",
   "execution_count": 243,
   "metadata": {
    "collapsed": true
   },
   "outputs": [],
   "source": [
    "#create the model\n",
    "model = Sequential()"
   ]
  },
  {
   "cell_type": "code",
   "execution_count": 244,
   "metadata": {
    "collapsed": false
   },
   "outputs": [],
   "source": [
    "#build the layers of the model\n",
    "model.add(Dense(output_dim=200, input_dim=784))\n",
    "model.add(Activation(\"sigmoid\"))\n",
    "model.add(Dropout(0.2))\n",
    "\n",
    "model.add(Dense(output_dim=10))\n",
    "model.add(Activation(\"softmax\"))"
   ]
  },
  {
   "cell_type": "code",
   "execution_count": 245,
   "metadata": {
    "collapsed": true
   },
   "outputs": [],
   "source": [
    "#compile the model\n",
    "model.compile(loss=\"sparse_categorical_crossentropy\", optimizer=\"sgd\", metrics=['accuracy'])"
   ]
  },
  {
   "cell_type": "code",
   "execution_count": 246,
   "metadata": {
    "collapsed": false
   },
   "outputs": [
    {
     "name": "stdout",
     "output_type": "stream",
     "text": [
      "Epoch 1/10\n",
      "28140/28140 [==============================] - 30s - loss: 0.8920 - acc: 0.7400    \n",
      "Epoch 2/10\n",
      "28140/28140 [==============================] - 30s - loss: 0.4797 - acc: 0.8630    \n",
      "Epoch 3/10\n",
      "28140/28140 [==============================] - 32s - loss: 0.3969 - acc: 0.8867    \n",
      "Epoch 4/10\n",
      "28140/28140 [==============================] - 30s - loss: 0.3635 - acc: 0.8930    \n",
      "Epoch 5/10\n",
      "28140/28140 [==============================] - 28s - loss: 0.3375 - acc: 0.9015    \n",
      "Epoch 6/10\n",
      "28140/28140 [==============================] - 31s - loss: 0.3252 - acc: 0.9058    \n",
      "Epoch 7/10\n",
      "28140/28140 [==============================] - 29s - loss: 0.3094 - acc: 0.9107    \n",
      "Epoch 8/10\n",
      "28140/28140 [==============================] - 29s - loss: 0.2973 - acc: 0.9131    \n",
      "Epoch 9/10\n",
      "28140/28140 [==============================] - 28s - loss: 0.2829 - acc: 0.9167    \n",
      "Epoch 10/10\n",
      "28140/28140 [==============================] - 30s - loss: 0.2723 - acc: 0.9194    \n"
     ]
    },
    {
     "data": {
      "text/plain": [
       "<keras.callbacks.History at 0x7f07b1eb5750>"
      ]
     },
     "execution_count": 246,
     "metadata": {},
     "output_type": "execute_result"
    }
   ],
   "source": [
    "model.fit(x_train, y_train, nb_epoch=10)"
   ]
  },
  {
   "cell_type": "code",
   "execution_count": 247,
   "metadata": {
    "collapsed": false
   },
   "outputs": [
    {
     "name": "stdout",
     "output_type": "stream",
     "text": [
      "13860/13860 [==============================] - 4s     \n",
      "[0.2550192621793238, 0.92777777777777781]\n"
     ]
    }
   ],
   "source": [
    "loss_and_metrics = model.evaluate(x_test, y_test)\n",
    "print(loss_and_metrics)"
   ]
  },
  {
   "cell_type": "code",
   "execution_count": 248,
   "metadata": {
    "collapsed": false
   },
   "outputs": [
    {
     "name": "stdout",
     "output_type": "stream",
     "text": [
      "(28000, 784)\n"
     ]
    }
   ],
   "source": [
    "import numpy as np\n",
    "df = pd.read_csv('test.csv').as_matrix()\n",
    "print(df.shape)\n",
    "y = model.predict(df)\n",
    "\n",
    "list_val = range(1, df.shape[0]+1)\n",
    "array_val = np.asarray(list_val)\n",
    "col1 = array_val.reshape(len(list_val), 1)\n",
    "\n",
    "col_x = np.argmax(y, axis=1)\n",
    "col2 = col_x.reshape(col_x.shape[0], 1)\n",
    "\n",
    "x = np.concatenate((col1, col2), axis=1)\n",
    "col_headers = ['ImageId', 'Label']\n",
    "\n",
    "new_df = pd.DataFrame(x, columns=col_headers)\n",
    "new_df.set_index('ImageId', inplace=True)\n",
    "new_df.to_csv('output.csv')"
   ]
  },
  {
   "cell_type": "code",
   "execution_count": null,
   "metadata": {
    "collapsed": true
   },
   "outputs": [],
   "source": []
  }
 ],
 "metadata": {
  "anaconda-cloud": {},
  "kernelspec": {
   "display_name": "Python [default]",
   "language": "python",
   "name": "python2"
  },
  "language_info": {
   "codemirror_mode": {
    "name": "ipython",
    "version": 2
   },
   "file_extension": ".py",
   "mimetype": "text/x-python",
   "name": "python",
   "nbconvert_exporter": "python",
   "pygments_lexer": "ipython2",
   "version": "2.7.12"
  }
 },
 "nbformat": 4,
 "nbformat_minor": 1
}
